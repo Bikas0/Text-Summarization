{
 "cells": [
  {
   "cell_type": "code",
   "execution_count": 5,
   "id": "a152e1f8",
   "metadata": {},
   "outputs": [],
   "source": [
    "import os\n",
    "import pandas as pd\n",
    "\n",
    "# Specify the parent directory path\n",
    "parent_directory = 'Dataset'\n",
    "\n",
    "# Get a list of all directories in the parent directory\n",
    "directories = [d for d in os.listdir(parent_directory) if os.path.isdir(os.path.join(parent_directory, d))]\n",
    "\n",
    "# Iterate over each directory and print its contents\n",
    "for folder in directories:\n",
    "    folder_path = os.path.join(parent_directory, folder)\n",
    "    \n",
    "    # Iterate over each file in the current directory\n",
    "    for file in os.listdir(folder_path):\n",
    "        # Read Excel file\n",
    "        data = pd.read_excel(os.path.join(folder_path, file))\n",
    "        \n",
    "        # Extract desired columns\n",
    "        dataset = data[[\"Task Description\", \"Summary\"]]\n",
    "        \n",
    "        # Create a DataFrame\n",
    "        dataset = pd.DataFrame(dataset)\n",
    "        \n",
    "        # Save DataFrame to a CSV file\n",
    "        csv_filename = os.path.splitext(file)[0] + '.csv'  # Change the filename as needed\n",
    "        \n",
    "        # Specify the parent folder path\n",
    "        parent_folder = 'PreprocessData'\n",
    "        \n",
    "        # Specify the subfolder name\n",
    "        subfolder_name = folder\n",
    "        # Create the full path for the new subfolder\n",
    "        subfolder_path = os.path.join(parent_folder, subfolder_name)\n",
    "        \n",
    "        # Use os.makedirs to create the subfolder and its parent folders if they don't exist\n",
    "        os.makedirs(subfolder_path, exist_ok=True)\n",
    "\n",
    "        csv_path = os.path.join(subfolder_path, csv_filename)\n",
    "        dataset.to_csv(csv_path, index=False)\n"
   ]
  },
  {
   "cell_type": "code",
   "execution_count": 6,
   "id": "c76edb50",
   "metadata": {},
   "outputs": [],
   "source": [
    "# Specify the parent directory path\n",
    "parent_directory = 'PreprocessData'\n",
    "\n",
    "# Get a list of all directories in the parent directory\n",
    "directories = [d for d in os.listdir(parent_directory) if os.path.isdir(os.path.join(parent_directory, d))]\n",
    "dataframes = []\n",
    "# Iterate over each directory and print its contents\n",
    "for folder in directories:\n",
    "    folder_path = os.path.join(parent_directory, folder)\n",
    "\n",
    "    # Iterate over each file in the current directory\n",
    "    for file in os.listdir(folder_path):\n",
    "        file_path = os.path.join(folder_path,file)\n",
    "        \n",
    "        # Read the CSV file into a DataFrame\n",
    "        data = pd.read_csv(file_path)\n",
    "\n",
    "        # Append the data to the dataframes list\n",
    "        dataframes.append(data)\n",
    "\n",
    "    # Concatenate all DataFrames in the list into a single DataFrame\n",
    "    concatenated_data = pd.concat(dataframes, ignore_index=True)\n",
    "\n",
    "    # Save the concatenated data to a new CSV file\n",
    "    concatenated_data.to_csv('LogDataset.csv', index=False)\n"
   ]
  },
  {
   "cell_type": "code",
   "execution_count": null,
   "id": "f6130d7a",
   "metadata": {},
   "outputs": [],
   "source": []
  }
 ],
 "metadata": {
  "kernelspec": {
   "display_name": "Python 3 (ipykernel)",
   "language": "python",
   "name": "python3"
  },
  "language_info": {
   "codemirror_mode": {
    "name": "ipython",
    "version": 3
   },
   "file_extension": ".py",
   "mimetype": "text/x-python",
   "name": "python",
   "nbconvert_exporter": "python",
   "pygments_lexer": "ipython3",
   "version": "3.11.5"
  }
 },
 "nbformat": 4,
 "nbformat_minor": 5
}
