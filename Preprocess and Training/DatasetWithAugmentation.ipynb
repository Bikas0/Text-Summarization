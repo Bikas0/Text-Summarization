{
  "cells": [
    {
      "cell_type": "code",
      "execution_count": null,
      "metadata": {
        "colab": {
          "base_uri": "https://localhost:8080/"
        },
        "id": "xpz_j8EWVIm5",
        "outputId": "00e8b95c-8881-4667-9d5d-7cb6d3e369c2"
      },
      "outputs": [],
      "source": [
        "from google.colab import drive\n",
        "drive.mount('/content/drive')"
      ]
    },
    {
      "cell_type": "code",
      "execution_count": null,
      "metadata": {
        "colab": {
          "base_uri": "https://localhost:8080/"
        },
        "id": "dDVIhnyMpLuq",
        "outputId": "fd9120b2-90c2-446a-8356-5dec0dfec035"
      },
      "outputs": [],
      "source": [
        "!pip install nlpaug\n",
        "!pip install googletrans\n",
        "!pip install sacremoses"
      ]
    },
    {
      "cell_type": "code",
      "execution_count": null,
      "metadata": {
        "colab": {
          "base_uri": "https://localhost:8080/"
        },
        "id": "ec8PXTy5Om2b",
        "outputId": "6caaf2fb-f986-46d2-aa42-21e6abd00854"
      },
      "outputs": [],
      "source": [
        "import re\n",
        "import nltk\n",
        "import torch\n",
        "import numpy as np\n",
        "import pandas as pd\n",
        "from tqdm import tqdm\n",
        "import matplotlib.pyplot as plt\n",
        "from transformers import pipeline\n",
        "from nltk.corpus import stopwords\n",
        "from nltk.tokenize import word_tokenize\n",
        "from nltk.stem import WordNetLemmatizer\n",
        "# Initialize augmenters\n",
        "import nlpaug.augmenter.word as naw\n",
        "import nlpaug.augmenter.word as naw\n",
        "from googletrans import Translator\n",
        "import pandas as pd\n",
        "import nlpaug.flow as naf\n",
        "nltk.download('punkt')\n",
        "nltk.download('wordnet')\n",
        "nltk.download('stopwords')"
      ]
    },
    {
      "cell_type": "code",
      "execution_count": null,
      "metadata": {},
      "outputs": [],
      "source": [
        "dataset = pd.read_csv(\"/content/drive/MyDrive/Text Summarization/LogDataset.csv\")\n",
        "dataset.head()"
      ]
    },
    {
      "cell_type": "code",
      "execution_count": null,
      "metadata": {
        "colab": {
          "base_uri": "https://localhost:8080/",
          "height": 140
        },
        "id": "HYmKD8cLFN8Y",
        "outputId": "72fc006d-89f3-409a-e873-cc0699c16562"
      },
      "outputs": [],
      "source": [
        "dataset[\"Task Description\"][0]"
      ]
    },
    {
      "cell_type": "code",
      "execution_count": null,
      "metadata": {
        "id": "3NhaXDJxKWZo"
      },
      "outputs": [],
      "source": [
        "# shuffled_dataframe = dataset.sample(frac=1).reset_index(drop=True)\n",
        "shuffled_dataframe = dataset.copy()\n",
        "# shuffled_dataframe.rename(columns={'Task Description': 'dialogue', 'Summary': 'summary'}, inplace=True)"
      ]
    },
    {
      "cell_type": "code",
      "execution_count": null,
      "metadata": {
        "id": "x90xzG2Q_6It"
      },
      "outputs": [],
      "source": [
        "def clean_and_lemmatize(text):\n",
        "    # Remove digits, symbols, punctuation marks, and newline characters\n",
        "    text = re.sub(r'\\d+', '', text)\n",
        "    text = re.sub(r'[^\\w\\s]', '', text.replace('\\n', ''))\n",
        "    # Tokenize the text\n",
        "    tokens = word_tokenize(text.lower())\n",
        "    # Initialize lemmatizer\n",
        "    lemmatizer = WordNetLemmatizer()\n",
        "    # Lemmatize each token and join back into a sentence\n",
        "    lemmatized_text = ' '.join([lemmatizer.lemmatize(token) for token in tokens])\n",
        "    return lemmatized_text\n",
        "# Apply cleaning and lemmatization to the 'Task Description' column\n",
        "shuffled_dataframe['Task Description'] = shuffled_dataframe['Task Description'].apply(clean_and_lemmatize)\n",
        "shuffled_dataframe['Summary'] = shuffled_dataframe['Summary'].apply(clean_and_lemmatize)"
      ]
    },
    {
      "cell_type": "code",
      "execution_count": null,
      "metadata": {
        "colab": {
          "base_uri": "https://localhost:8080/",
          "height": 206
        },
        "id": "4A8ddvTWsNIk",
        "outputId": "f4cc8a23-7cbc-4642-cf83-fea4b3a2bdf4"
      },
      "outputs": [],
      "source": [
        "shuffled_dataframe.head()"
      ]
    },
    {
      "cell_type": "code",
      "execution_count": null,
      "metadata": {
        "colab": {
          "base_uri": "https://localhost:8080/",
          "height": 140
        },
        "id": "Q9hAVf7STKlj",
        "outputId": "62a4709f-53e8-4c64-edf8-4e60cf2e5cec"
      },
      "outputs": [],
      "source": [
        "shuffled_dataframe[\"Task Description\"][0]"
      ]
    },
    {
      "cell_type": "code",
      "execution_count": null,
      "metadata": {
        "id": "TXgPgPXNbchQ"
      },
      "outputs": [],
      "source": [
        "# Initialize augmenters\n",
        "aug_synonym = naw.SynonymAug(aug_src='wordnet', aug_p = 0.4)\n",
        "aug_insert = naw.RandomWordAug(aug_p = 0.3)\n",
        "# Function to perform all augmentations\n",
        "def perform_augmentations(text):\n",
        "    # Synonym Augmentation\n",
        "    text = aug_synonym.augment(text)\n",
        "\n",
        "    # Random Word Insertion\n",
        "    text = aug_insert.augment(text)\n",
        "\n",
        "    return text"
      ]
    },
    {
      "cell_type": "code",
      "execution_count": null,
      "metadata": {
        "id": "mzmQFBSEfVGn"
      },
      "outputs": [],
      "source": [
        "augmented_data = []\n",
        "for index, row in shuffled_dataframe.iterrows():\n",
        "    for _ in range(5):\n",
        "        augmented_desc = perform_augmentations(row['Task Description'])\n",
        "        augmented_summ = perform_augmentations(row['Summary'])\n",
        "        augmented_data.append({'Task Description': augmented_desc, 'Summary': augmented_summ})"
      ]
    },
    {
      "cell_type": "code",
      "execution_count": null,
      "metadata": {
        "id": "udFNgm21sNL9"
      },
      "outputs": [],
      "source": [
        "# Creating a DataFrame with augmented text\n",
        "augmented_df = pd.DataFrame(augmented_data)\n",
        "# Save augmented data to a CSV file\n",
        "augmented_df.to_csv('augmented_Dataset_200_data.csv', index=False)"
      ]
    },
    {
      "cell_type": "code",
      "execution_count": null,
      "metadata": {
        "id": "QIQ2TNkCYAUu"
      },
      "outputs": [],
      "source": []
    },
    {
      "cell_type": "code",
      "execution_count": null,
      "metadata": {
        "colab": {
          "base_uri": "https://localhost:8080/",
          "height": 1000
        },
        "id": "gH9XqNJ6YAXW",
        "outputId": "4c4ba9d0-c988-42e7-898e-44421acb1689"
      },
      "outputs": [],
      "source": [
        "pd.set_option('display.max_colwidth', -1)\n",
        "aug_dataset = pd.read_csv(\"/content/augmented_Dataset_200_data.csv\")\n",
        "aug_dataset.head()"
      ]
    },
    {
      "cell_type": "code",
      "execution_count": null,
      "metadata": {
        "colab": {
          "base_uri": "https://localhost:8080/",
          "height": 140
        },
        "id": "loZ3owu7YAZ1",
        "outputId": "15fd8ddd-0752-468a-d676-ade4cae0864b"
      },
      "outputs": [],
      "source": [
        "aug_dataset[\"Task Description\"][0]"
      ]
    },
    {
      "cell_type": "code",
      "execution_count": null,
      "metadata": {
        "colab": {
          "base_uri": "https://localhost:8080/"
        },
        "id": "2Y_CcUW1KNBM",
        "outputId": "524f5325-9e70-412e-ead6-b110d135249a"
      },
      "outputs": [],
      "source": [
        "aug_dataset.shape"
      ]
    },
    {
      "cell_type": "code",
      "execution_count": null,
      "metadata": {
        "id": "TcKec_SkNFvC"
      },
      "outputs": [],
      "source": []
    },
    {
      "cell_type": "code",
      "execution_count": null,
      "metadata": {
        "id": "v0aAScStNFyQ"
      },
      "outputs": [],
      "source": [
        "import os\n",
        "dataframes = []\n",
        "data_file = [\"/content/drive/MyDrive/Text Summarization/LogDataset.csv\", \"/content/augmented_Dataset_200_data.csv\"]\n",
        "for file in data_file:\n",
        "  # Read the CSV file into a DataFrame\n",
        "  data = pd.read_csv(file)\n",
        "\n",
        "  # Append the data to the dataframes list\n",
        "  dataframes.append(data)\n",
        "\n",
        "# Concatenate all DataFrames in the list into a single DataFrame\n",
        "concatenated_data = pd.concat(dataframes, ignore_index=True)\n",
        "\n",
        "# Save the concatenated data to a new CSV file\n",
        "concatenated_data.to_csv('Dataset.csv', index=False)\n"
      ]
    },
    {
      "cell_type": "code",
      "execution_count": null,
      "metadata": {
        "colab": {
          "base_uri": "https://localhost:8080/",
          "height": 1000
        },
        "id": "gvihpVSLNu0W",
        "outputId": "61ef73fe-fec1-497d-d6a5-af74ccbeadef"
      },
      "outputs": [],
      "source": [
        "data = pd.read_csv(\"/content/Dataset.csv\")\n",
        "data.head()"
      ]
    },
    {
      "cell_type": "code",
      "execution_count": null,
      "metadata": {
        "colab": {
          "base_uri": "https://localhost:8080/"
        },
        "id": "pnuknGUeOBJt",
        "outputId": "e27e6366-ee6b-4d4b-debe-28d55bb325cf"
      },
      "outputs": [],
      "source": [
        "data.shape"
      ]
    },
    {
      "cell_type": "code",
      "execution_count": null,
      "metadata": {
        "colab": {
          "base_uri": "https://localhost:8080/"
        },
        "id": "xtv1p5mIOB-z",
        "outputId": "dfba9770-07ee-418d-c7a2-e519e6f63d25"
      },
      "outputs": [],
      "source": [
        "data.duplicated().sum()"
      ]
    },
    {
      "cell_type": "code",
      "execution_count": null,
      "metadata": {
        "id": "7v25rJF-OElM"
      },
      "outputs": [],
      "source": []
    }
  ],
  "metadata": {
    "colab": {
      "provenance": []
    },
    "kernelspec": {
      "display_name": "Python 3",
      "name": "python3"
    },
    "language_info": {
      "name": "python",
      "version": "3.11.6"
    }
  },
  "nbformat": 4,
  "nbformat_minor": 0
}
